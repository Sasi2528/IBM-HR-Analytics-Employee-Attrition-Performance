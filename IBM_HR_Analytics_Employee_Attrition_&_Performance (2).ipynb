{
 "cells": [
  {
   "cell_type": "markdown",
   "metadata": {
    "id": "R_2bMjJHeN4_"
   },
   "source": [
    "# **IBM HR Analytics Employee Attrition & Performance**"
   ]
  },
  {
   "cell_type": "markdown",
   "metadata": {
    "id": "XLj3RQnWkn5P"
   },
   "source": [
    "## 1.Brainstorm\n",
    "\n",
    "This dataset contains detailed information about employees, such as their age, job role, income, experience, satisfaction levels, and work environment.\n",
    "It is taken from Kaggle’s “IBM HR Analytics Employee Attrition & Performance” dataset and is used to analyze and predict employee attrition (whether an employee will leave the company or stay)."
   ]
  },
  {
   "cell_type": "markdown",
   "metadata": {
    "id": "xqi-_c92nAMS"
   },
   "source": [
    "## 2.Dataset\n",
    "**Source**: IBM HR Analytics Employee Attrition & Performance\n",
    "\n",
    "**Key Columns :** EmployeeNumber, Age, Gender, Department, JobRole, MonthlyIncome, YearsAtCompany, JobSatisfaction, WorkLifeBalance, PerformanceRating, Attrition (Target)..\n",
    "\n",
    "**Timeline:** Contains employee records collected over multiple years across different departments.\n",
    "\n",
    "**Location:** Kaggle"
   ]
  },
  {
   "cell_type": "markdown",
   "metadata": {
    "id": "JF7hrSdJd9mz"
   },
   "source": [
    "##3. Problem statement\n",
    "\n",
    "Employee turnover is a major challenge for organizations. When employees leave frequently, it affects productivity, team morale, and company performance.\n",
    "Predicting which employees are likely to leave can help HR teams take preventive actions.\n",
    "This project uses machine learning models to predict employee attrition based on various HR and performance-related factors."
   ]
  },
  {
   "cell_type": "markdown",
   "metadata": {
    "id": "1iyO3iBXeqTv"
   },
   "source": [
    "##4. Domain\n",
    "\n",
    "Human Resources Analytics/  Employee Retention"
   ]
  },
  {
   "cell_type": "markdown",
   "metadata": {
    "id": "9vtYSdNjez5S"
   },
   "source": [
    "##5. Objective\n",
    "\n",
    "The primary objective of this project is to analyze employee-related data to understand the factors influencing attrition and performance, and to build predictive models that help organizations proactively manage workforce challenges.\n"
   ]
  },
  {
   "cell_type": "markdown",
   "metadata": {
    "id": "UX1wrBo88ux0"
   },
   "source": [
    "## 6.Outcome\n",
    "\n",
    " I am going to achieve a comprehensive understanding of the factors that influence employee attrition and performance. I will build predictive models capable of identifying employees who are at risk of leaving, analyze the key drivers that contribute to attrition, and gain actionable insights that can help HR managers design effective retention strategies.\n",
    "\n",
    ".\n",
    "**Sample Input:**  Age, Gender, Department, JobRole, MonthlyIncome, DistanceFromHome, YearsAtCompany, OverTime, JobSatisfaction, EducationField, MaritalStatus\n",
    "\n",
    "**Sample Output:** Predicted Employee Attrition Status\n"
   ]
  },
  {
   "cell_type": "markdown",
   "metadata": {
    "id": "qHQ2lWrjddnr"
   },
   "source": [
    "##7.Algorithms\n",
    "This dataset is a classification problem, as the goal is to predict whether an employee will leave the company. Therefore, I plan to apply the following supervised machine learning classification algorithms to build predictive models and identify the factors influencing employee attrition.\n",
    "\n",
    "*  Logistic Regression\n",
    "*   Decision Tree Classifier\n",
    "*   Random Forest Classifier\n",
    "*   Support Vector Machine (SVM / SVC)\n",
    "*   Naïve Bayes\n",
    "*  K-Nearest Neighbors (KNN)\n",
    "\n",
    "\n",
    "\n",
    "\n"
   ]
  },
  {
   "cell_type": "markdown",
   "metadata": {
    "id": "W7xeYSXZvA2s"
   },
   "source": [
    "## EDA Process"
   ]
  },
  {
   "cell_type": "markdown",
   "metadata": {
    "id": "X9MrPzivKjAY"
   },
   "source": [
    "Library Importing"
   ]
  },
  {
   "cell_type": "code",
   "execution_count": null,
   "metadata": {
    "id": "HzwTjVFsXVnZ"
   },
   "outputs": [],
   "source": [
    "import pandas as pd\n",
    "import numpy as np\n",
    "import matplotlib.pyplot as plt\n",
    "import seaborn as sns\n"
   ]
  },
  {
   "cell_type": "markdown",
   "metadata": {
    "id": "W9L2aM3_LCH3"
   },
   "source": [
    "Loading the Dataset"
   ]
  },
  {
   "cell_type": "code",
   "execution_count": null,
   "metadata": {
    "id": "Vr4jX9fYZXX2"
   },
   "outputs": [],
   "source": [
    "Ep_df=pd.read_csv('https://raw.githubusercontent.com/Sasi2528/IBM-HR-Analytics-Employee-Attrition-Performance/refs/heads/main/WA_Fn-UseC_-HR-Employee-Attrition.csv')\n",
    "Ep_df"
   ]
  },
  {
   "cell_type": "markdown",
   "metadata": {
    "id": "PF8WOlLsB5mX"
   },
   "source": [
    "Finding the First Five Roww"
   ]
  },
  {
   "cell_type": "code",
   "execution_count": null,
   "metadata": {
    "id": "fEDa_aZyaCZd"
   },
   "outputs": [],
   "source": [
    "Ep_df.head()\n"
   ]
  },
  {
   "cell_type": "markdown",
   "metadata": {
    "id": "iLmopULhBwmd"
   },
   "source": [
    "Finding the Last Five Rows"
   ]
  },
  {
   "cell_type": "code",
   "execution_count": null,
   "metadata": {
    "id": "NYQnf4VfaSfd"
   },
   "outputs": [],
   "source": [
    "Ep_df.tail()"
   ]
  },
  {
   "cell_type": "markdown",
   "metadata": {
    "id": "kxSgwsEzD7Dc"
   },
   "source": [
    "Finding the Count of Columns & Rows"
   ]
  },
  {
   "cell_type": "code",
   "execution_count": null,
   "metadata": {
    "id": "jXpbEZK1aZGY"
   },
   "outputs": [],
   "source": [
    "Ep_df.shape\n",
    "print(\"Count of Rows:\", Ep_df.shape[0])\n",
    "print(\"Count of Columns:\", Ep_df.shape[1])"
   ]
  },
  {
   "cell_type": "markdown",
   "metadata": {
    "id": "c5jRA58DENtc"
   },
   "source": [
    "### Basic Informations\n",
    "Finding the Data type"
   ]
  },
  {
   "cell_type": "code",
   "execution_count": null,
   "metadata": {
    "id": "J93rTziIEaCe"
   },
   "outputs": [],
   "source": [
    "Ep_df.info()"
   ]
  },
  {
   "cell_type": "markdown",
   "metadata": {
    "id": "MDBRUYUpP1ZK"
   },
   "source": [
    "### Finding the datatype"
   ]
  },
  {
   "cell_type": "code",
   "execution_count": null,
   "metadata": {
    "id": "d47kUqy-P9Oc"
   },
   "outputs": [],
   "source": [
    "print(Ep_df.dtypes)"
   ]
  },
  {
   "cell_type": "markdown",
   "metadata": {
    "id": "mlt2_u6nE_oU"
   },
   "source": [
    "Finding the column Names\n"
   ]
  },
  {
   "cell_type": "code",
   "execution_count": null,
   "metadata": {
    "id": "e9KpwofxExDi"
   },
   "outputs": [],
   "source": [
    "print('Column',Ep_df.columns)"
   ]
  },
  {
   "cell_type": "markdown",
   "metadata": {
    "id": "cmzgaFIcR-H_"
   },
   "source": [
    "### Finding the categorical columns"
   ]
  },
  {
   "cell_type": "code",
   "execution_count": null,
   "metadata": {
    "id": "SDUWMO6OSGAO"
   },
   "outputs": [],
   "source": [
    "Categorical_cols=Ep_df.select_dtypes(include=['object']).columns\n",
    "Categorical_cols\n"
   ]
  },
  {
   "cell_type": "markdown",
   "metadata": {
    "id": "B681qFnQSlWw"
   },
   "source": [
    "### Finding the Numerical Columns"
   ]
  },
  {
   "cell_type": "code",
   "execution_count": null,
   "metadata": {
    "id": "N6FEookKSgKX"
   },
   "outputs": [],
   "source": [
    "Numerical_cols=Ep_df.select_dtypes(include=['int','float']).columns\n",
    "Numerical_cols"
   ]
  },
  {
   "cell_type": "markdown",
   "metadata": {
    "id": "he0bIrxDYUCs"
   },
   "source": [
    "## Interpretation\n",
    "\n",
    "In this project, the IBM HR Analytics Employee Attrition and Performance dataset is first loaded for detailed analysis. The primary objective of this dataset is to understand the various factors that influence employee attrition — whether an employee stays in the company or decides to leave.\n",
    "\n",
    "After loading the dataset, its structure is carefully examined to understand the total number of rows, columns, and data types of each feature. The dataset contains 1,470 rows and 35 columns, where each row represents an employee record, and each column represents a specific attribute related to employee demographics, job satisfaction, compensation, and work environment."
   ]
  },
  {
   "cell_type": "markdown",
   "metadata": {
    "id": "3hkb2G-uKptN"
   },
   "source": [
    "# Stage 2\n",
    "\n",
    "## EDA (Visualization) and Pre-processing"
   ]
  },
  {
   "cell_type": "markdown",
   "metadata": {
    "id": "ezKhzA12TryK"
   },
   "source": [
    "### Finding the Missing Values"
   ]
  },
  {
   "cell_type": "code",
   "execution_count": null,
   "metadata": {
    "id": "BV_hDx-XTnHl"
   },
   "outputs": [],
   "source": [
    "Ep_df.isnull()"
   ]
  },
  {
   "cell_type": "markdown",
   "metadata": {
    "id": "N-ZUpYxxTMpE"
   },
   "source": [
    "### Finding the sum of Null Values"
   ]
  },
  {
   "cell_type": "code",
   "execution_count": null,
   "metadata": {
    "id": "bSZsCHeMhrXG"
   },
   "outputs": [],
   "source": [
    "Ep_df.isnull().sum()"
   ]
  },
  {
   "cell_type": "markdown",
   "metadata": {
    "id": "tbpqbBOVMIUA"
   },
   "source": [
    "### Handling Duplicates"
   ]
  },
  {
   "cell_type": "code",
   "execution_count": null,
   "metadata": {
    "id": "31CwhyNMMSBR"
   },
   "outputs": [],
   "source": [
    "Ep_df_Duplicate = Ep_df.duplicated()\n",
    "print(Ep_df_Duplicate)"
   ]
  },
  {
   "cell_type": "markdown",
   "metadata": {
    "id": "LWid-XiBsXHK"
   },
   "source": [
    "There is no duplicate values in Ep dataset."
   ]
  },
  {
   "cell_type": "markdown",
   "metadata": {
    "id": "hCAe-EaQsq_b"
   },
   "source": [
    "**Finding Outliers**\n",
    "\n",
    "Before Removing Outlier Dataset Shape"
   ]
  },
  {
   "cell_type": "code",
   "execution_count": null,
   "metadata": {
    "id": "FcxftTXMG_cR"
   },
   "outputs": [],
   "source": [
    "numerical_cols = Ep_df.select_dtypes(include=[np.number]).columns\n",
    "print('Before removing outlier Dataset shape',Ep_df.shape)"
   ]
  },
  {
   "cell_type": "code",
   "execution_count": null,
   "metadata": {
    "id": "5s76nm4ftSeh"
   },
   "outputs": [],
   "source": [
    "numeric_cols = Ep_df.select_dtypes(include=['int64', 'float64']).columns\n",
    "print(\"Numeric columns:\", numeric_cols)"
   ]
  },
  {
   "cell_type": "code",
   "execution_count": null,
   "metadata": {
    "id": "F8vYZU-UtYuL"
   },
   "outputs": [],
   "source": [
    "plt.figure(figsize=(14,5))\n",
    "sns.boxplot(data=Ep_df[numeric_cols])\n",
    "plt.title(\" Before Removing Outlier\")\n",
    "plt.xticks(rotation=60)\n",
    "plt.show()"
   ]
  },
  {
   "cell_type": "code",
   "execution_count": null,
   "metadata": {
    "id": "dy_Vn132uR85"
   },
   "outputs": [],
   "source": [
    "for col in Ep_df.select_dtypes(include=['int','float64']):\n",
    "  Q1=Ep_df[col].quantile(0.25)\n",
    "  Q3=Ep_df[col].quantile(0.75)\n",
    "  IQR=Q3-Q1\n",
    "  print(f\"{col}:IQR-{IQR}\")"
   ]
  },
  {
   "cell_type": "code",
   "execution_count": null,
   "metadata": {
    "id": "XWaWfkwdxH6P"
   },
   "outputs": [],
   "source": [
    "lower_bound = Q1-1.5* IQR\n",
    "lower_bound"
   ]
  },
  {
   "cell_type": "code",
   "execution_count": null,
   "metadata": {
    "id": "E1HhxLOnxoTJ"
   },
   "outputs": [],
   "source": [
    "Upper_bound = Q3+1.5* IQR\n",
    "Upper_bound"
   ]
  },
  {
   "cell_type": "markdown",
   "metadata": {
    "id": "HTshbNI4Kw87"
   },
   "source": [
    "## Removing outliers"
   ]
  },
  {
   "cell_type": "code",
   "execution_count": null,
   "metadata": {
    "id": "F72hIEVfyyvU"
   },
   "outputs": [],
   "source": [
    "Ep_df_Removed_Outliers=Ep_df[(Ep_df[col]>=lower_bound)&(Ep_df[col]<=Upper_bound)]\n",
    "Ep_df_Removed_Outliers"
   ]
  },
  {
   "cell_type": "markdown",
   "metadata": {
    "id": "EQGnH_imz7iW"
   },
   "source": [
    "After Removing Outlier Dataset Shape"
   ]
  },
  {
   "cell_type": "code",
   "execution_count": null,
   "metadata": {
    "id": "BzoZYjvrzzDy"
   },
   "outputs": [],
   "source": [
    "print('After removing outlier Dataset shape',Ep_df_Removed_Outliers.shape)"
   ]
  },
  {
   "cell_type": "markdown",
   "metadata": {
    "id": "4LjMqKU40jnI"
   },
   "source": [
    "Boxplot After Removing Outlier for Numarical Column"
   ]
  },
  {
   "cell_type": "code",
   "execution_count": null,
   "metadata": {
    "id": "N2-BXNzi0lbi"
   },
   "outputs": [],
   "source": [
    "plt.figure(figsize=(10,5))\n",
    "sns.boxplot(data=Ep_df_Removed_Outliers[col])\n",
    "plt.title(\"After Removing Outliers\")\n",
    "plt.show()"
   ]
  },
  {
   "cell_type": "markdown",
   "metadata": {
    "id": "jUGJ9e9q1NRX"
   },
   "source": [
    "**Finding Skewness**"
   ]
  },
  {
   "cell_type": "code",
   "execution_count": null,
   "metadata": {
    "id": "qmpj6Jjr1bQK"
   },
   "outputs": [],
   "source": [
    "Ep_df_Skewness = Ep_df[numeric_cols].skew()\n",
    "print(Ep_df_Skewness)"
   ]
  },
  {
   "cell_type": "markdown",
   "metadata": {
    "id": "X40unyrC1iUG"
   },
   "source": [
    " Skewness  Visualizitation"
   ]
  },
  {
   "cell_type": "code",
   "execution_count": null,
   "metadata": {
    "id": "FYIo55Cx1p52"
   },
   "outputs": [],
   "source": [
    "plt.figure.figsize=(14,7)\n",
    "sns.kdeplot(data=Ep_df_Skewness,fill=True)\n",
    "plt.title(\"Skewness\")\n",
    "plt.show()"
   ]
  },
  {
   "cell_type": "markdown",
   "metadata": {
    "id": "j7R_jl59OS_b"
   },
   "source": [
    "# Visualization"
   ]
  },
  {
   "cell_type": "markdown",
   "metadata": {
    "id": "72jD0J-XOj8V"
   },
   "source": [
    "Univariate"
   ]
  },
  {
   "cell_type": "code",
   "execution_count": null,
   "metadata": {
    "colab": {
     "base_uri": "https://localhost:8080/",
     "height": 628
    },
    "id": "_oKzRAvaQFBN",
    "outputId": "cfc6cc85-d136-4260-cd65-f58d8116a033"
   },
   "outputs": [],
   "source": [
    "sns.histplot(Ep_df['YearsWithCurrManager'], kde=True, color='skyblue')\n",
    "plt.title(f\"Histogram & KDE of YearsWithCurrManager\")\n",
    "plt.show()\n",
    "print(Ep_df['YearsWithCurrManager'].describe())"
   ]
  },
  {
   "cell_type": "markdown",
   "metadata": {
    "id": "G7tBwTh5vsrw"
   },
   "source": [
    "**Interpretation:**\n",
    "\n",
    " YearsWithCurrManager is indicating that most employees have relatively fewer years of experience with their current manager. Only a small proportion have stayed with the same manager for many years."
   ]
  },
  {
   "cell_type": "code",
   "execution_count": null,
   "metadata": {
    "colab": {
     "base_uri": "https://localhost:8080/",
     "height": 589
    },
    "id": "mjjlCgvmvYM6",
    "outputId": "c7d996e7-7966-4e1e-c6ff-c8282b0d4423"
   },
   "outputs": [],
   "source": [
    "sns.boxplot(Ep_df['JobInvolvement'])\n",
    "plt.title(f\"Histogram & KDE of JobInvolvement\")\n",
    "plt.show()\n",
    "print(Ep_df['JobInvolvement'].describe())"
   ]
  },
  {
   "cell_type": "markdown",
   "metadata": {
    "id": "5F4EAZQtnGDw"
   },
   "source": [
    "**Interpretation:**\n",
    "\n",
    "The JobInvolvement represents how actively employees are engaged in their work and how much they identify with their job role.\n"
   ]
  },
  {
   "cell_type": "code",
   "execution_count": null,
   "metadata": {
    "colab": {
     "base_uri": "https://localhost:8080/",
     "height": 539
    },
    "id": "XIeVxdy7BR4G",
    "outputId": "51bb8b5f-3f71-4fb3-d5e2-33640ef600d9"
   },
   "outputs": [],
   "source": [
    "sns.barplot(Ep_df['Gender'], color='blue')\n",
    "plt.title(f\"Barplot &  of Gender\")\n",
    "plt.show()\n",
    "print(Ep_df['Gender'].describe())"
   ]
  },
  {
   "cell_type": "markdown",
   "metadata": {
    "id": "ydNrWHeQCXuf"
   },
   "source": [
    "**Interpretation:**\n",
    "\n",
    "The barplot of Gender shows the distribution of employees based on their gender within the organization.The plot indicates that the organization has a higher number of male employees compared to female employees"
   ]
  },
  {
   "cell_type": "code",
   "execution_count": null,
   "metadata": {
    "colab": {
     "base_uri": "https://localhost:8080/",
     "height": 628
    },
    "id": "aa2suEOMJy9D",
    "outputId": "a210882f-db22-438a-fa78-820980b380e4"
   },
   "outputs": [],
   "source": [
    "sns.countplot(x=Ep_df['MonthlyIncome'],color='blue')\n",
    "plt.title(\"Boxplot of Monthly Income\")\n",
    "plt.show()\n",
    "print(Ep_df['MonthlyIncome'].describe())"
   ]
  },
  {
   "cell_type": "markdown",
   "metadata": {
    "id": "Fl3s18dOn6Oc"
   },
   "source": [
    "**Interpretation:**\n",
    "\n",
    "MonthlyIncome  indicates that most employees earn within a certain moderate income range, while a few employees have significantly higher monthly incomes."
   ]
  },
  {
   "cell_type": "code",
   "execution_count": null,
   "metadata": {
    "colab": {
     "base_uri": "https://localhost:8080/",
     "height": 564
    },
    "id": "uro_U-q9IBOR",
    "outputId": "0f887c1a-9813-450c-abf7-dacddf004921"
   },
   "outputs": [],
   "source": [
    "plt.figure(figsize=(12,6))\n",
    "sns.countplot(x='YearsAtCompany', data=Ep_df,color='#808000')\n",
    "plt.title(\"YearsAtCompany\",color='#808000')\n",
    "plt.show()\n"
   ]
  },
  {
   "cell_type": "markdown",
   "metadata": {
    "id": "6eryCmV9o1T9"
   },
   "source": [
    "**Interpretation:**\n",
    "\n",
    "YearsAtCompany illustrates the number of employees grouped by their total years of service in the organization.\n",
    "From the visualization, it can be observed that the majority of employees have relatively fewer years of experience within the company, while the number of employees gradually decreases as years of service increase."
   ]
  },
  {
   "cell_type": "markdown",
   "metadata": {
    "id": "LAHrPD-Zvp5a"
   },
   "source": [
    "Bivariate"
   ]
  },
  {
   "cell_type": "code",
   "execution_count": null,
   "metadata": {
    "colab": {
     "base_uri": "https://localhost:8080/",
     "height": 564
    },
    "id": "RzhEC5UKuaqf",
    "outputId": "93bfa334-ca1a-4ac8-90ca-2d99e63ca031"
   },
   "outputs": [],
   "source": [
    "plt.figure(figsize=(10, 6))\n",
    "sns.boxplot(x='Attrition', y='MonthlyIncome', data=Ep_df,hue='Attrition',palette='Set2',legend=False)\n",
    "plt.title('Attrition vs. Monthly Income')\n",
    "plt.show()"
   ]
  },
  {
   "cell_type": "markdown",
   "metadata": {
    "id": "U2lYB6gVpsUA"
   },
   "source": [
    "**Interpretation:**\n",
    "\n",
    "Attrition vs. Monthly Income shows the relationship between an employee’s salary and their likelihood of leaving the organization."
   ]
  },
  {
   "cell_type": "code",
   "execution_count": null,
   "metadata": {
    "colab": {
     "base_uri": "https://localhost:8080/",
     "height": 543
    },
    "id": "sAgGaWmc5GsE",
    "outputId": "790e5f10-8fec-4edc-932c-13c27f153bb2"
   },
   "outputs": [],
   "source": [
    "plt.figure(figsize=(15,6))\n",
    "sns.scatterplot(data=Ep_df,x='YearsAtCompany',y='MonthlyIncome',hue='PerformanceRating',palette='viridis')\n",
    "plt.title(\"Performance Rating vs Monthly Income over Years at Company\")\n",
    "plt.show()\n"
   ]
  },
  {
   "cell_type": "markdown",
   "metadata": {
    "id": "tdcjXLqX5wKA"
   },
   "source": [
    "**Interpretation:**\n",
    "\n",
    "It can be observed that employees with higher performance ratings generally earn higher monthly incomes, especially as their tenure increases.\n",
    "This trend suggests that performance and experience play a significant role in salary growth within the organization."
   ]
  },
  {
   "cell_type": "code",
   "execution_count": null,
   "metadata": {
    "colab": {
     "base_uri": "https://localhost:8080/",
     "height": 472
    },
    "id": "Ni4TZl3Nv5rz",
    "outputId": "3dded426-7fa9-4497-8c8f-9c3f65968d2d"
   },
   "outputs": [],
   "source": [
    "sns.barplot(x='Attrition',y='JobSatisfaction',data=Ep_df,hue='Attrition',palette='coolwarm',legend=False)\n",
    "plt.title('Attrition Vs JobSatifaction')\n",
    "plt.show()"
   ]
  },
  {
   "cell_type": "markdown",
   "metadata": {
    "id": "f2ymYYilrWTL"
   },
   "source": [
    "**Interpretation:**\n",
    "\n",
    "Attrition vs. JobSatisfaction shows how employee satisfaction with their job relates to their likelihood of leaving the organization."
   ]
  },
  {
   "cell_type": "code",
   "execution_count": null,
   "metadata": {
    "colab": {
     "base_uri": "https://localhost:8080/",
     "height": 564
    },
    "id": "ZPthWaHczQh5",
    "outputId": "d3b042be-07d6-49bf-d64f-54f4cef45fa9"
   },
   "outputs": [],
   "source": [
    "plt.figure(figsize=(8, 6))\n",
    "sns.histplot(Ep_df[Ep_df['Attrition'] == 'Yes']['Age'], color='red', label='Left', kde=True)\n",
    "sns.histplot(Ep_df[Ep_df['Attrition'] == 'No']['Age'], color='green', label='Stayed', kde=True)\n",
    "plt.title('Attrition vs. Age')\n",
    "plt.legend()\n",
    "plt.show()"
   ]
  },
  {
   "cell_type": "markdown",
   "metadata": {
    "id": "V_CM8GQn-BAX"
   },
   "source": [
    "**Interpretation:**\n",
    "\n",
    "The age distribution of employees who left (Attrition = Yes) and those who stayed (Attrition = No) in the organization."
   ]
  },
  {
   "cell_type": "code",
   "execution_count": null,
   "metadata": {
    "colab": {
     "base_uri": "https://localhost:8080/",
     "height": 552
    },
    "id": "J9Rv4JBc6DFv",
    "outputId": "276d5826-3c37-4ae8-9022-5a74e257f60b"
   },
   "outputs": [],
   "source": [
    "plt.figure(figsize=(15,6))\n",
    "sns.violinplot(data=Ep_df,x='YearsSinceLastPromotion',y='PerformanceRating',hue='Attrition', palette='Set2')\n",
    "plt.title('Years Since Last Promotion vs Performance Rating by Attrition')\n",
    "plt.show()"
   ]
  },
  {
   "cell_type": "markdown",
   "metadata": {
    "id": "yTD9C0lX9kOi"
   },
   "source": [
    "**Interpretation:**\n",
    "\n",
    "The relationship between the number of years since an employee’s last promotion and their performance rating, colored by attrition status.\n",
    "Employees who have not been promoted for many years tend to have lower performance ratings, and some of these employees also leave the company.\n",
    "This suggests that promotion opportunities and recognition of performance could influence employee retention."
   ]
  },
  {
   "cell_type": "markdown",
   "metadata": {
    "id": "W37SvhfWYbk8"
   },
   "source": [
    "\n",
    "### Multivariate"
   ]
  },
  {
   "cell_type": "code",
   "execution_count": null,
   "metadata": {
    "colab": {
     "base_uri": "https://localhost:8080/",
     "height": 1000
    },
    "id": "XIxYRfE9ZLdG",
    "outputId": "d9517913-2479-47a3-b99e-b3b824c36ccd"
   },
   "outputs": [],
   "source": [
    "plt.figure(figsize=(16,5))\n",
    "sns.pairplot(data=Ep_df, vars=numerical_cols, hue='Attrition', palette='Set1', diag_kind='kde')\n",
    "plt.tight_layout()\n",
    "plt.show()\n"
   ]
  },
  {
   "cell_type": "markdown",
   "metadata": {
    "id": "OiDF_6Kxsp9K"
   },
   "source": [
    "**Interpretation:**\n",
    "\n",
    "The pairplot reveals that attrition is more common among younger employees with lower income and fewer years at the company. Distance from home also appears to have a mild effect, with employees living farther away showing a slightly higher tendency to leave. These findings highlight that demographic and financial factors jointly influence employee attrition patterns."
   ]
  },
  {
   "cell_type": "code",
   "execution_count": null,
   "metadata": {
    "id": "60z5M55FtanR",
    "colab": {
     "base_uri": "https://localhost:8080/"
    },
    "outputId": "66f23ae4-2a61-4dab-d2c9-efa438ffa1cf"
   },
   "outputs": [],
   "source": [
    "print(Ep_df.info())"
   ]
  },
  {
   "cell_type": "code",
   "execution_count": null,
   "metadata": {
    "id": "pFHqI704ucuJ",
    "colab": {
     "base_uri": "https://localhost:8080/"
    },
    "outputId": "333d155c-0368-4c14-a728-fb750abe1245"
   },
   "outputs": [],
   "source": [
    "print(Ep_df.describe())"
   ]
  },
  {
   "cell_type": "code",
   "execution_count": null,
   "metadata": {
    "id": "9zYaf3JuiyMP",
    "colab": {
     "base_uri": "https://localhost:8080/",
     "height": 366
    },
    "outputId": "fcd42968-45eb-4d7e-fc81-2328c8e4746d"
   },
   "outputs": [],
   "source": [
    "Ep_df.select_dtypes(include='object').nunique()"
   ]
  },
  {
   "cell_type": "markdown",
   "metadata": {
    "id": "BftRAyxoZyoh"
   },
   "source": [
    "#Stage 3\n",
    "\n",
    "## Feature Engineering"
   ]
  },
  {
   "cell_type": "markdown",
   "metadata": {
    "id": "mWIdzjJDaUSr"
   },
   "source": [
    "**Encoding the categorical Column**"
   ]
  },
  {
   "cell_type": "code",
   "execution_count": null,
   "metadata": {
    "id": "yLARW0qM57Sw"
   },
   "outputs": [],
   "source": [
    "Ep_df['Attrition']=Ep_df['Attrition'].map({'Yes':1, 'No':0}).astype(int)"
   ]
  },
  {
   "cell_type": "code",
   "execution_count": null,
   "metadata": {
    "id": "AXybLZZ9BVgA",
    "colab": {
     "base_uri": "https://localhost:8080/"
    },
    "outputId": "947f5583-3dad-4521-f117-e696969f2908"
   },
   "outputs": [],
   "source": [
    "Ep_df['Attrition'].unique().tolist()"
   ]
  },
  {
   "cell_type": "code",
   "execution_count": null,
   "metadata": {
    "id": "foasDigb-zlg",
    "colab": {
     "base_uri": "https://localhost:8080/"
    },
    "outputId": "cb7e429c-979c-4724-8532-67116cb43e81"
   },
   "outputs": [],
   "source": [
    "Ep_df['Attrition'].info()"
   ]
  },
  {
   "cell_type": "code",
   "execution_count": null,
   "metadata": {
    "id": "_8RNytru4sl9",
    "colab": {
     "base_uri": "https://localhost:8080/"
    },
    "outputId": "e1616f8e-b0ab-489a-b4a9-2693784381be"
   },
   "outputs": [],
   "source": [
    "for col in Ep_df.select_dtypes(include=['object']).columns:\n",
    "  print(f\"{col}:{Ep_df[col].unique().tolist()}\")"
   ]
  },
  {
   "cell_type": "code",
   "execution_count": null,
   "metadata": {
    "id": "SRqZ4hCjnriw"
   },
   "outputs": [],
   "source": [
    "from sklearn.preprocessing import OneHotEncoder"
   ]
  },
  {
   "cell_type": "code",
   "execution_count": null,
   "metadata": {
    "id": "AadBMUnQ6LpY",
    "colab": {
     "base_uri": "https://localhost:8080/"
    },
    "outputId": "8d7eaaaf-d5ae-4b0e-a35f-9c9f88ff1743"
   },
   "outputs": [],
   "source": [
    "encoding = OneHotEncoder(sparse_output=False)\n",
    "categorical_encoding=encoding.fit_transform(Ep_df[['BusinessTravel','Department','EducationField','Gender',\n",
    "                                                   'JobRole','MaritalStatus','Over18','OverTime']])\n",
    "categorical_encoding"
   ]
  },
  {
   "cell_type": "code",
   "execution_count": null,
   "metadata": {
    "id": "k8i3RBKk8wL7",
    "colab": {
     "base_uri": "https://localhost:8080/"
    },
    "outputId": "91fb3b5e-fa8d-46dd-8d8d-f84286e7b07f"
   },
   "outputs": [],
   "source": [
    "Ep_df_encoding=pd.DataFrame(categorical_encoding,columns=encoding.get_feature_names_out())\n",
    "encoding_names=Ep_df_encoding.columns\n",
    "print(\"Encoding Names:\",encoding_names)"
   ]
  },
  {
   "cell_type": "code",
   "execution_count": null,
   "metadata": {
    "id": "AtmByLN6HcPL"
   },
   "outputs": [],
   "source": [
    "Ep_df_dropped=Ep_df.drop(['BusinessTravel','Department','EducationField','Gender','JobRole','MaritalStatus','Over18','OverTime'],axis=1)\n",
    "FEP_df=pd.concat([Ep_df_dropped,Ep_df_encoding[[ 'BusinessTravel_Non-Travel',\n",
    "       'BusinessTravel_Travel_Frequently', 'BusinessTravel_Travel_Rarely',\n",
    "       'Department_Human Resources', 'Department_Research & Development',\n",
    "       'Department_Sales', 'EducationField_Human Resources',\n",
    "       'EducationField_Life Sciences', 'EducationField_Marketing',\n",
    "       'EducationField_Medical', 'EducationField_Other',\n",
    "       'EducationField_Technical Degree', 'Gender_Female', 'Gender_Male',\n",
    "       'JobRole_Healthcare Representative', 'JobRole_Human Resources',\n",
    "       'JobRole_Laboratory Technician', 'JobRole_Manager',\n",
    "       'JobRole_Manufacturing Director', 'JobRole_Research Director',\n",
    "       'JobRole_Research Scientist', 'JobRole_Sales Executive',\n",
    "       'JobRole_Sales Representative', 'MaritalStatus_Divorced',\n",
    "       'MaritalStatus_Married', 'MaritalStatus_Single', 'Over18_Y',\n",
    "       'OverTime_No', 'OverTime_Yes']]],axis=1)"
   ]
  },
  {
   "cell_type": "code",
   "execution_count": null,
   "metadata": {
    "id": "kh9rfgNyHEs7",
    "colab": {
     "base_uri": "https://localhost:8080/"
    },
    "outputId": "8e408528-145e-4ee8-ae0e-10e400299e78"
   },
   "outputs": [],
   "source": [
    "FEP_df.info()"
   ]
  },
  {
   "cell_type": "code",
   "execution_count": null,
   "metadata": {
    "id": "xT0UYtLaBrrs",
    "colab": {
     "base_uri": "https://localhost:8080/",
     "height": 430
    },
    "outputId": "b3c8f706-bdb7-43b3-e678-b3a26560b763"
   },
   "outputs": [],
   "source": [
    "FEP_df.head(10)"
   ]
  },
  {
   "cell_type": "code",
   "execution_count": null,
   "metadata": {
    "id": "pfTa2GLuCEe0",
    "colab": {
     "base_uri": "https://localhost:8080/",
     "height": 367
    },
    "outputId": "1ce88ddf-2235-410d-b1c1-01bef42ef9c1"
   },
   "outputs": [],
   "source": [
    "FEP_df.describe()"
   ]
  },
  {
   "cell_type": "markdown",
   "metadata": {
    "id": "hopPncpUKb47"
   },
   "source": [
    "**Feature Scaling**"
   ]
  },
  {
   "cell_type": "code",
   "execution_count": null,
   "metadata": {
    "id": "6Rwb7MapKbk4"
   },
   "outputs": [],
   "source": [
    "from sklearn.preprocessing import StandardScaler\n",
    "Scaler=StandardScaler()"
   ]
  },
  {
   "cell_type": "code",
   "execution_count": null,
   "metadata": {
    "id": "h3kH_fDc0XYh",
    "colab": {
     "base_uri": "https://localhost:8080/",
     "height": 461
    },
    "outputId": "d257f4de-c26e-4ac3-d95e-60b8e6fc48d9"
   },
   "outputs": [],
   "source": [
    "scaled_numeric=Scaler.fit_transform(FEP_df[numerical_cols])\n",
    "scaled_numeric_df=pd.DataFrame(scaled_numeric,columns=numeric_cols)\n",
    "FEP_df_process=pd.concat([scaled_numeric_df,FEP_df.select_dtypes(include=['int','float64']), FEP_df['Attrition']], axis=1)\n",
    "FEP_df_process\n"
   ]
  },
  {
   "cell_type": "code",
   "source": [
    "FEP_df_process['Attrition'].info()"
   ],
   "metadata": {
    "colab": {
     "base_uri": "https://localhost:8080/"
    },
    "id": "EKMOytmAFAi6",
    "outputId": "b8dd5ab8-3f45-498c-dbf7-521993ffaf6c"
   },
   "execution_count": null,
   "outputs": []
  },
  {
   "cell_type": "markdown",
   "metadata": {
    "id": "4uGUgvqODf_G"
   },
   "source": [
    "**Feature Selection**"
   ]
  },
  {
   "cell_type": "code",
   "execution_count": null,
   "metadata": {
    "colab": {
     "base_uri": "https://localhost:8080/",
     "height": 461
    },
    "id": "zsHXjriVDqxF",
    "outputId": "1a67d1f8-a5c6-48f5-d95b-67854821d979"
   },
   "outputs": [],
   "source": [
    "corr_matrix=FEP_df_process.corr()\n",
    "corr_matrix"
   ]
  },
  {
   "cell_type": "code",
   "execution_count": null,
   "metadata": {
    "id": "_sWNN0AVQp9W",
    "colab": {
     "base_uri": "https://localhost:8080/"
    },
    "outputId": "1ca6554a-3df3-4ccf-ddf7-e527510e545a"
   },
   "outputs": [],
   "source": [
    "FEP_df_process.shape"
   ]
  },
  {
   "cell_type": "code",
   "source": [
    "FEP_df_process = FEP_df_process.loc[:, ~FEP_df_process.columns.duplicated()]"
   ],
   "metadata": {
    "id": "hEfjRYfYgttA"
   },
   "execution_count": null,
   "outputs": []
  },
  {
   "cell_type": "code",
   "execution_count": null,
   "metadata": {
    "id": "c9t4_8W063kA"
   },
   "outputs": [],
   "source": [
    "X=FEP_df_process.drop(['Attrition', 'EmployeeCount','Over18_Y'],axis=1)\n",
    "y=FEP_df_process['Attrition'].astype(int)\n"
   ]
  },
  {
   "cell_type": "code",
   "source": [
    "FEP_df['Attrition'].info()"
   ],
   "metadata": {
    "colab": {
     "base_uri": "https://localhost:8080/"
    },
    "id": "XOz-nvhsP6kN",
    "outputId": "d8753493-0e2e-4956-a2be-1d420d954a2d"
   },
   "execution_count": null,
   "outputs": []
  },
  {
   "cell_type": "markdown",
   "metadata": {
    "id": "Bz009050OtyR"
   },
   "source": [
    "  **Interpretation:**\n",
    "\n",
    "  I choose “Attrition” as the target because it’s the main outcome variable\n",
    "it represents the problem we want to solve or predict (whether an employee stays or leaves)."
   ]
  },
  {
   "cell_type": "code",
   "execution_count": null,
   "metadata": {
    "colab": {
     "base_uri": "https://localhost:8080/",
     "height": 80
    },
    "id": "GQ342KGM-mcv",
    "outputId": "3d4fd46c-a3da-49be-8c23-3b8af799fa36"
   },
   "outputs": [],
   "source": [
    "import warnings\n",
    "warnings.filterwarnings('ignore')\n",
    "from sklearn.feature_selection import SelectKBest,f_classif\n",
    "select=SelectKBest(score_func=f_classif,k=10)\n",
    "select.fit(X,y)\n"
   ]
  },
  {
   "cell_type": "code",
   "source": [
    "x_new=select.fit_transform(X,y)\n",
    "Top_features=X.columns[select.get_support()]\n",
    "print(Top_features)"
   ],
   "metadata": {
    "colab": {
     "base_uri": "https://localhost:8080/"
    },
    "id": "gNBizZcAYY_0",
    "outputId": "f64b8f99-3cbb-4c4e-c181-98b10f173cf6"
   },
   "execution_count": null,
   "outputs": []
  },
  {
   "cell_type": "code",
   "source": [
    "X = X[Top_features]\n",
    "y=FEP_df_process['Attrition'].astype(int)"
   ],
   "metadata": {
    "id": "UgpXchDpRI0l"
   },
   "execution_count": null,
   "outputs": []
  },
  {
   "cell_type": "markdown",
   "metadata": {
    "id": "NJIIFc-URvYJ"
   },
   "source": [
    "**Model Bulding**"
   ]
  },
  {
   "cell_type": "code",
   "execution_count": null,
   "metadata": {
    "id": "ntLLbuwlRu4r"
   },
   "outputs": [],
   "source": [
    "from sklearn.model_selection import train_test_split"
   ]
  },
  {
   "cell_type": "code",
   "execution_count": null,
   "metadata": {
    "id": "74CB4R1fR8fq"
   },
   "outputs": [],
   "source": [
    "X_train,X_test,y_train,y_test = train_test_split(X,y,test_size=0.2,random_state=42)\n",
    "scaler = StandardScaler()\n",
    "X_train_scaled = scaler.fit_transform(X_train)\n",
    "X_test_scaled = scaler.transform(X_test)"
   ]
  },
  {
   "cell_type": "code",
   "source": [
    "X_train.shape"
   ],
   "metadata": {
    "colab": {
     "base_uri": "https://localhost:8080/"
    },
    "id": "rxTgvmsYFT5f",
    "outputId": "ee0dff04-87c4-4fc1-ca90-af94cbff866f"
   },
   "execution_count": null,
   "outputs": []
  },
  {
   "cell_type": "code",
   "source": [
    "X_test.shape"
   ],
   "metadata": {
    "colab": {
     "base_uri": "https://localhost:8080/"
    },
    "id": "dhuf4AJkFb2l",
    "outputId": "9ef47f19-899a-4563-8782-9f4ef17cc9aa"
   },
   "execution_count": null,
   "outputs": []
  },
  {
   "cell_type": "code",
   "source": [
    "y_train.shape"
   ],
   "metadata": {
    "colab": {
     "base_uri": "https://localhost:8080/"
    },
    "id": "27IonRPBFgnl",
    "outputId": "15246d23-04ff-40e2-96fd-4063900678b0"
   },
   "execution_count": null,
   "outputs": []
  },
  {
   "cell_type": "code",
   "source": [
    "y_test.shape"
   ],
   "metadata": {
    "colab": {
     "base_uri": "https://localhost:8080/"
    },
    "id": "JgWMCqouFkhl",
    "outputId": "9634b57d-c4d2-4d96-cba4-5ec26fbae1ed"
   },
   "execution_count": null,
   "outputs": []
  },
  {
   "cell_type": "code",
   "execution_count": null,
   "metadata": {
    "id": "0uVWvG0CTdcD"
   },
   "outputs": [],
   "source": [
    "from sklearn.linear_model import LogisticRegression\n",
    "from sklearn.tree import DecisionTreeClassifier\n",
    "from sklearn.ensemble import RandomForestClassifier\n",
    "from sklearn.svm import SVC\n",
    "from sklearn.naive_bayes import GaussianNB\n",
    "from sklearn.neighbors import KNeighborsClassifier\n",
    "from xgboost import XGBClassifier\n",
    "from sklearn.metrics import accuracy_score, confusion_matrix, classification_report,ConfusionMatrixDisplay,f1_score"
   ]
  },
  {
   "cell_type": "code",
   "source": [
    "classifiers={\n",
    "    'Logistic Regression':LogisticRegression(),\n",
    "    'K-Nearest Neighbours': KNeighborsClassifier(),\n",
    "    'Decision Tree': DecisionTreeClassifier(),\n",
    "    'Random Forest': RandomForestClassifier(),\n",
    "    'Support Vector Classifier': SVC(),\n",
    "    'Naive Bayes': GaussianNB(),\n",
    "    'XGBoost': XGBClassifier()\n",
    "\n",
    "}"
   ],
   "metadata": {
    "id": "wR4dvrNYYkhj"
   },
   "execution_count": null,
   "outputs": []
  },
  {
   "cell_type": "code",
   "source": [
    "import warnings\n",
    "warnings.filterwarnings(\"ignore\")"
   ],
   "metadata": {
    "id": "OEA7NGt09J5j"
   },
   "execution_count": null,
   "outputs": []
  },
  {
   "cell_type": "markdown",
   "source": [
    "#Stage 4"
   ],
   "metadata": {
    "id": "6BPCZ51EO5pv"
   }
  },
  {
   "cell_type": "markdown",
   "source": [
    "**Compare the Models**"
   ],
   "metadata": {
    "id": "C2zhvO8N9QHp"
   }
  },
  {
   "cell_type": "code",
   "execution_count": null,
   "metadata": {
    "colab": {
     "base_uri": "https://localhost:8080/",
     "height": 269
    },
    "id": "ILaiFJcxaiY2",
    "outputId": "e9b3019f-d412-4ec0-a4ad-b159be83ea38"
   },
   "outputs": [],
   "source": [
    "results={}\n",
    "for name, clf in classifiers.items():\n",
    "  clf.fit(X_train,y_train)\n",
    "  y_pred=clf.predict(X_test)\n",
    "  accuracy=accuracy_score(y_test,y_pred)\n",
    "  f1=f1_score(y_test,y_pred)\n",
    "  results[name]={'Accuracy':accuracy, 'F1 Score':f1}\n",
    "\n",
    "results_df=pd.DataFrame(results).T\n",
    "results_df"
   ]
  },
  {
   "cell_type": "markdown",
   "source": [
    "**Interpretation:**\n",
    "\n",
    "    \n",
    "* Support Vector Classifier (SVC) achieved the highest accuracy , meaning it correctly classifies most samples overall.\n",
    "However, it's F1 score is quite low its biased toward the majority class.\n",
    "\n",
    "* Naïve Bayes, despite a slightly lower accuracy , achieved the highest F1 score.This indicates it is better balanced.\n",
    "It's likely more effective at detecting rare or minority-class events.\n",
    "\n",
    "* Logistic Regression and KNN perform moderately well in both metrics, offering a stable trade-off between accuracy and generalization.\n",
    "\n",
    "* Decision Tree and XGBoost show lower overall accuracy and F1, possibly due to overfitting or lack of hyperparameter tuning."
   ],
   "metadata": {
    "id": "DpRfv_1S2y55"
   }
  },
  {
   "cell_type": "code",
   "source": [
    "plt.figure(figsize=(10,6))\n",
    "sns.barplot(data=results_df.reset_index(), x='index', y='Accuracy', palette=\"coolwarm\")\n",
    "plt.title(\"Model Accuracy Comparison\")\n",
    "plt.xlabel(\"Classifier\", fontsize=12)\n",
    "plt.ylabel(\"Accuracy\", fontsize=12)\n",
    "plt.xticks(rotation=45, ha='right')\n",
    "plt.tight_layout()\n",
    "plt.show()"
   ],
   "metadata": {
    "colab": {
     "base_uri": "https://localhost:8080/",
     "height": 607
    },
    "id": "cQBI7EGaRl-f",
    "outputId": "bbf077c4-3e78-4823-ad40-46a1e3fde915"
   },
   "execution_count": null,
   "outputs": []
  },
  {
   "cell_type": "markdown",
   "source": [
    "**Using KFold cross validation**"
   ],
   "metadata": {
    "id": "5kgUF11h9rj3"
   }
  },
  {
   "cell_type": "code",
   "source": [
    "from sklearn.model_selection import KFold, cross_val_score\n",
    "k=5\n",
    "kf=KFold(n_splits=k, shuffle=True, random_state=4)\n",
    "print(f\"{'Classifier':<25}{'Mean Accuracy':<20}{'Mean F1 Score':<20}\")\n",
    "for name, clf in classifiers.items():\n",
    "  accuracy_score=cross_val_score(clf,X,y,cv=kf,scoring='accuracy')\n",
    "  f1_score=cross_val_score(clf,X,y,cv=kf,scoring='f1_weighted')\n",
    "  print(f\"{name:<25}{accuracy_score.mean():<20.4f}{f1_score.mean():<20.4f}\")"
   ],
   "metadata": {
    "colab": {
     "base_uri": "https://localhost:8080/"
    },
    "id": "O09HZzuK93NQ",
    "outputId": "2724a673-be82-47ff-982a-6c1ca4187778"
   },
   "execution_count": null,
   "outputs": []
  },
  {
   "cell_type": "markdown",
   "source": [
    "**Interpretation**\n",
    "\n",
    "* All models show reasonably high accuracy  and strong F1 scores , indicating stable generalization across the 5 folds.\n",
    "\n",
    "* The small variation between accuracy and F1 means your dataset is likely well-balanced or the models are handling imbalance decently.\n",
    "\n",
    "* Support Vector Classifier (SVC) has the highest mean accuracy  — it's the most consistent in overall prediction correctness.\n",
    "\n",
    "* Random Forest delivers the best F1 score  — it balances precision and recall well, meaning it performs slightly better at correctly identifying both classes.\n",
    "\n",
    "* K-Nearest Neighbours and XGBoost also perform strongly and close to the top performers."
   ],
   "metadata": {
    "id": "WQ0OZ33M2sic"
   }
  },
  {
   "cell_type": "markdown",
   "source": [
    "**Hyperparameter Tuning**"
   ],
   "metadata": {
    "id": "nXU2Rrsy2YBp"
   }
  },
  {
   "cell_type": "code",
   "source": [
    "from sklearn.model_selection import GridSearchCV\n",
    "from sklearn.svm import SVC\n",
    "\n",
    "param_grid={\n",
    "    'C':[0.1,1,10,100],\n",
    "    'gamma':['scale','auto',0.1,1,10],\n",
    "    'kernel':['rbf','linear']\n",
    "}\n",
    "grid_search=GridSearchCV(estimator=SVC(),param_grid=param_grid,refit=True,verbose=2,cv=5)\n",
    "grid_search.fit(X_train,y_train)\n",
    "print(\"Best parameteres found:\")\n",
    "print(grid_search.best_params_)\n",
    "best_svm_model=grid_search.best_estimator_"
   ],
   "metadata": {
    "colab": {
     "base_uri": "https://localhost:8080/"
    },
    "id": "tpRC6_P1-yom",
    "outputId": "65c76305-adfe-4ae3-a3c0-6ddd6e392e2f"
   },
   "execution_count": null,
   "outputs": []
  },
  {
   "cell_type": "code",
   "source": [
    "from sklearn.linear_model import LogisticRegression\n",
    "from sklearn.model_selection import GridSearchCV\n",
    "\n",
    "param_grid_lr = {\n",
    "    'penalty': ['l1', 'l2', 'elasticnet', None],\n",
    "    'C': [0.01, 0.1, 1, 10, 100],\n",
    "    'solver': ['lbfgs', 'liblinear', 'saga'],\n",
    "    'max_iter': [100, 500, 1000]\n",
    "}\n",
    "log_reg = LogisticRegression()\n",
    "grid_search_lr = GridSearchCV(estimator=log_reg, param_grid=param_grid_lr,refit=True, verbose=2, cv=5, n_jobs=-1)\n",
    "\n",
    "grid_search_lr.fit(X_train, y_train)\n",
    "print(\"Best parameters for Logistic Regression:\")\n",
    "print(grid_search_lr.best_params_)\n",
    "\n",
    "best_log_model = grid_search_lr.best_estimator_"
   ],
   "metadata": {
    "colab": {
     "base_uri": "https://localhost:8080/"
    },
    "id": "Cn1Ttu1t2urL",
    "outputId": "51407849-30f9-49b2-913b-7c5058243420"
   },
   "execution_count": null,
   "outputs": []
  },
  {
   "cell_type": "code",
   "source": [
    "from sklearn.ensemble import RandomForestClassifier\n",
    "from sklearn.model_selection import GridSearchCV\n",
    "param_grid_rf = {\n",
    "    'n_estimators': [100, 200, 500],\n",
    "    'max_depth': [None, 10, 20, 30],\n",
    "    'min_samples_split': [2, 5, 10],\n",
    "    'min_samples_leaf': [1, 2, 4],\n",
    "    'max_features': ['sqrt', 'log2']\n",
    "}\n",
    "rf = RandomForestClassifier(random_state=42)\n",
    "grid_search_rf = GridSearchCV(estimator=rf, param_grid=param_grid_rf,\n",
    "                              refit=True, verbose=2, cv=5, n_jobs=-1)\n",
    "\n",
    "grid_search_rf.fit(X_train, y_train)\n",
    "\n",
    "print(\"Best parameters for Random Forest:\")\n",
    "print(grid_search_rf.best_params_)\n",
    "\n",
    "best_rf_model = grid_search_rf.best_estimator_"
   ],
   "metadata": {
    "colab": {
     "base_uri": "https://localhost:8080/"
    },
    "id": "gjLtH0Cu2zaM",
    "outputId": "0e712d36-b5a3-42ce-84e9-778dcf90b2b7"
   },
   "execution_count": null,
   "outputs": []
  },
  {
   "cell_type": "code",
   "source": [
    "from sklearn.metrics import accuracy_score, classification_report"
   ],
   "metadata": {
    "id": "UdvwMVSsZ1pA"
   },
   "execution_count": null,
   "outputs": []
  },
  {
   "cell_type": "code",
   "source": [
    "best_models = {\n",
    "    'SVC': grid_search.best_estimator_,\n",
    "    'Random Forest': grid_search_rf.best_estimator_,\n",
    "    'Logistic Regression':grid_search_lr.best_estimator_\n",
    "}\n",
    "for name, model in best_models.items():\n",
    "    y_pred = model.predict(X_test)\n",
    "    accuracy = accuracy_score(y_test, y_pred)\n",
    "\n",
    "    print(f\"\\n{name} Results:\")\n",
    "    print(f\"Accuracy: {accuracy:.2f}\")\n",
    "    print(\"Classification Report:\")\n",
    "    print(classification_report(y_test, y_pred, target_names=['No Attrition', 'Attrition']))"
   ],
   "metadata": {
    "colab": {
     "base_uri": "https://localhost:8080/"
    },
    "id": "Z-uBMT6ZUc_W",
    "outputId": "3d48c8ca-0e3c-424b-b305-4db6d6df7e3e"
   },
   "execution_count": null,
   "outputs": []
  },
  {
   "cell_type": "code",
   "source": [
    "results = {}\n",
    "\n",
    "for name, model in best_models.items():\n",
    "    y_pred = model.predict(X_test)\n",
    "    report = classification_report(y_test, y_pred, target_names=['No Attrition', 'Attrition'], output_dict=True)\n",
    "    results[name] = {\n",
    "        'Accuracy': accuracy_score(y_test, y_pred),\n",
    "        'Precision': report['weighted avg']['precision'],\n",
    "        'Recall': report['weighted avg']['recall'],\n",
    "        'F1-Score': report['weighted avg']['f1-score']\n",
    "    }\n",
    "\n",
    "metrics = list(next(iter(results.values())).keys())\n",
    "x = np.arange(len(metrics))\n",
    "width = 0.25\n",
    "plt.figure(figsize=(10, 6))\n",
    "for i, (name, scores) in enumerate(results.items()):\n",
    "    plt.bar(x + i*width, list(scores.values()), width=width, label=name)\n",
    "plt.xticks(x + width, metrics)\n",
    "plt.ylim(0, 1)\n",
    "plt.title('Model Performance Comparison', fontsize=14)\n",
    "plt.ylabel('Score', fontsize=12)\n",
    "plt.legend()\n",
    "plt.grid(axis='y', linestyle='--', alpha=0.6)\n",
    "plt.show()"
   ],
   "metadata": {
    "colab": {
     "base_uri": "https://localhost:8080/",
     "height": 546
    },
    "id": "WkldY7MpeFu4",
    "outputId": "48ee9ddd-ff5c-49f7-c7f9-6dc0a0d5bee5"
   },
   "execution_count": null,
   "outputs": []
  },
  {
   "cell_type": "markdown",
   "source": [
    "**Interpretation**\n",
    "\n",
    " After Hyperparameter tuning finding the best model\n",
    "\n",
    "| Model                   | Accuracy | Attrition Recall | Attrition F1-score |\n",
    "| ----------------------- | -------- | ---------------- | ------------------ |\n",
    "| **SVC**                 | 0.87     | 0.13             | 0.20               |\n",
    "| **Random Forest**       | 0.85     | 0.15             | 0.21               |\n",
    "| **Logistic Regression** | 0.87     | 0.10             | 0.17               |\n",
    "\n",
    "- Evaluated models: Logistic Regression, Random Forest, Decision Tree, KNN, SVC, Naïve Bayes, XGBoost\n",
    "\n",
    "- Based on Accuracy (≈0.87) and F1-score (≈0.20), the Support Vector Classifier (SVC) still performs best overall.\n",
    "\n",
    "- Random Forest performs strongly but slightly biased toward the majority “No Attrition” class."
   ],
   "metadata": {
    "id": "3xH2HerR9RnU"
   }
  },
  {
   "cell_type": "markdown",
   "source": [
    "# **IBM HR Analytics Employee Attrition & Performance**"
   ],
   "metadata": {
    "id": "LH6RccVYM0eS"
   }
  },
  {
   "cell_type": "markdown",
   "source": [
    "## **Project Overview**\n",
    "\n",
    "The goal of this project is to analyze employee data to identify the key factors that lead to employee attrition (employees leaving the company) and to build predictive models that can accurately forecast the likelihood of attrition.\n",
    "Understand the main drivers of employee turnover.\n",
    "\n",
    "Predict which employees are at risk of leaving, enabling proactive retention strategies.\n",
    "\n",
    "Improve overall workforce performance and satisfaction through data-driven HR decisions.\n",
    "\n",
    "\n",
    "## **Stage 1**\n",
    "\n",
    "### Data choosing & Understanding the Dataset\n",
    "\n",
    "- Dataset: 'Data_Train.xlsx'\n",
    "- Columns include EmployeeNumber, Age, Gender, Department, JobRole, MonthlyIncome, YearsAtCompany, JobSatisfaction, WorkLifeBalance, PerformanceRating, Attrition.\n",
    "- Checked data types, null values, and duplicates.\n",
    "\n",
    "## **Stage 2**\n",
    "\n",
    "### EDA (Visualization) and Pre-processing\n",
    " - Finding the outliers\n",
    " - Removing the outliers\n",
    " - Finding the Skewness\n",
    " - Visualize the Univariate\n",
    " - Visualize the Bivariate\n",
    " - Visualize the Multivariate\n",
    "\n",
    " ## **Stage 3**\n",
    "\n",
    " ### Feature Engineering\n",
    " - Encoding the categorical columns(One hot Encoding)\n",
    " - Feature Selection (Using Kbest selection)\n",
    " - Feature Scaling (Standard Scalar)\n",
    " - Model Building\n",
    "\n",
    "  ## **Stage 4**\n",
    "  ### Model Evaluation\n",
    "  - Logistic Regression\n",
    "  - Decision Tree Classifier\n",
    "  - Random Forest Classifier\n",
    "  - Support Vector Machine (SVM / SVC)\n",
    "  - Naïve Bayes\n",
    "  - K-Nearest Neighbors (KNN)\n",
    "  - XGBooster\n",
    "   ### Model Comparision\n",
    "\n",
    "   - Using KFold cross validation\n",
    "   - Hyperparameter Tuning\n",
    "   Finally find the best model for predict the Attrition.\n",
    "\n",
    "  ### Future Enhancement\n",
    "\n",
    "- While the current model provides valuable insights into employee attrition and performance, there is significant scope for further improvement and expansion.\n",
    " - The  solution more robust, accurate, and practical for real-world HR applications:\n",
    "\n",
    " ### Conclusion\n",
    "The IBM HR Analytics - Employee Attrition & Performance project successfully explored employee-related data to identify key factors influencing attrition and to build predictive models that help forecast which employees are at risk of leaving the organization.\n",
    "\n",
    "Through data preprocessing, feature selection, and model comparison, the analysis revealed that factors such as overtime, job level, total working years, marital status, and monthly income play a crucial role in employee attrition.\n",
    "\n",
    "Among the tested machine learning models — including Logistic Regression, Random Forest, SVM, KNN, Decision Tree, Naïve Bayes, and XGBoost — models like Support Vector Classifier (SVC) and Random Forest delivered the highest accuracy, while Naïve Bayes performed better in detecting minority (attrition) cases, as reflected in its F1 score.\n",
    "\n",
    "The findings highlight the importance of data-driven HR strategies. By understanding what drives employees to leave, organizations can proactively implement retention initiatives, optimize workload, enhance job satisfaction, and improve workforce stability.\n",
    "\n",
    "\n",
    "\n",
    "\n",
    "\n",
    "\n",
    "\n",
    "\n"
   ],
   "metadata": {
    "id": "R94xCp-jL3oy"
   }
  }
 ],
 "metadata": {
  "colab": {
   "provenance": []
  },
  "kernelspec": {
   "display_name": "Python 3",
   "name": "python3"
  },
  "language_info": {
   "name": "python"
  }
 },
 "nbformat": 4,
 "nbformat_minor": 0
}